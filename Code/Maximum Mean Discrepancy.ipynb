{
 "cells": [
  {
   "cell_type": "code",
   "execution_count": 1,
   "metadata": {},
   "outputs": [],
   "source": [
    "# Maximum Mean Discrepancy - Distance between two distributions, is the distance between mean of those two distributions"
   ]
  },
  {
   "cell_type": "code",
   "execution_count": 2,
   "metadata": {},
   "outputs": [],
   "source": [
    "import matplotlib.pyplot as plt\n",
    "%matplotlib inline\n",
    "\n",
    "%load_ext autoreload\n",
    "%autoreload 2"
   ]
  },
  {
   "cell_type": "code",
   "execution_count": 3,
   "metadata": {},
   "outputs": [],
   "source": [
    "import torch\n",
    "import torchvision\n",
    "import numpy as np\n",
    "from scipy.spatial.distance import cdist"
   ]
  },
  {
   "cell_type": "code",
   "execution_count": 4,
   "metadata": {},
   "outputs": [
    {
     "name": "stdout",
     "output_type": "stream",
     "text": [
      "202599\n"
     ]
    }
   ],
   "source": [
    "# Training Images\n",
    "\n",
    "import os\n",
    "root = 'data_faces/img_align_celeba'\n",
    "timg_list = os.listdir(root)\n",
    "print(len(timg_list))"
   ]
  },
  {
   "cell_type": "code",
   "execution_count": 5,
   "metadata": {},
   "outputs": [
    {
     "name": "stdout",
     "output_type": "stream",
     "text": [
      "Requirement already satisfied: Pillow==4.0.0 in /opt/conda/lib/python3.7/site-packages (4.0.0)\n",
      "Requirement already satisfied: olefile in /opt/conda/lib/python3.7/site-packages (from Pillow==4.0.0) (0.46)\n",
      "\u001b[31mERROR: Could not find a version that satisfies the requirement PIL (from versions: none)\u001b[0m\n",
      "\u001b[31mERROR: No matching distribution found for PIL\u001b[0m\n",
      "Requirement already satisfied: image in /opt/conda/lib/python3.7/site-packages (1.5.33)\n",
      "Requirement already satisfied: six in /opt/conda/lib/python3.7/site-packages (from image) (1.15.0)\n",
      "Requirement already satisfied: django in /opt/conda/lib/python3.7/site-packages (from image) (3.1.2)\n",
      "Requirement already satisfied: pillow in /opt/conda/lib/python3.7/site-packages (from image) (4.0.0)\n",
      "Requirement already satisfied: pytz in /opt/conda/lib/python3.7/site-packages (from django->image) (2020.1)\n",
      "Requirement already satisfied: asgiref~=3.2.10 in /opt/conda/lib/python3.7/site-packages (from django->image) (3.2.10)\n",
      "Requirement already satisfied: sqlparse>=0.2.2 in /opt/conda/lib/python3.7/site-packages (from django->image) (0.3.1)\n",
      "Requirement already satisfied: olefile in /opt/conda/lib/python3.7/site-packages (from pillow->image) (0.46)\n"
     ]
    },
    {
     "name": "stderr",
     "output_type": "stream",
     "text": [
      "/opt/conda/lib/python3.7/site-packages/torchvision/transforms/transforms.py:219: UserWarning: The use of the transforms.Scale transform is deprecated, please use transforms.Resize instead.\n",
      "  warnings.warn(\"The use of the transforms.Scale transform is deprecated, \" +\n"
     ]
    }
   ],
   "source": [
    "!pip install Pillow==4.0.0\n",
    "!pip install PIL\n",
    "!pip install image\n",
    "import PIL.Image as Image\n",
    "import torch\n",
    "import torchvision\n",
    "from torchvision import transforms\n",
    "from torchvision import datasets\n",
    "from torch.utils.data import DataLoader\n",
    "\"\"\" data \"\"\"\n",
    "crop_size = 108\n",
    "re_size = 32\n",
    "offset_height = (218 - crop_size) // 2\n",
    "offset_width = (178 - crop_size) // 2\n",
    "crop = lambda x: x[:, offset_height:offset_height + crop_size, offset_width:offset_width + crop_size]\n",
    "\n",
    "transform = transforms.Compose(\n",
    "    [transforms.ToTensor(),\n",
    "     transforms.Lambda(crop),\n",
    "     transforms.ToPILImage(),\n",
    "     transforms.Scale(size=(re_size, re_size), interpolation=Image.BICUBIC),\n",
    "     transforms.ToTensor(),\n",
    "     transforms.Normalize(mean=[0.5] * 3, std=[0.5] * 3)])\n",
    "\n",
    "batch_size = 64\n",
    "\n",
    "\n",
    "# Transformed Training Images\n",
    "celeba_data = datasets.ImageFolder('./data_faces', transform=transform)"
   ]
  },
  {
   "cell_type": "code",
   "execution_count": 6,
   "metadata": {},
   "outputs": [
    {
     "name": "stdout",
     "output_type": "stream",
     "text": [
      "6400\n"
     ]
    }
   ],
   "source": [
    "# Generated Images\n",
    "\n",
    "import os\n",
    "root = 'sep_images_folder/sep_imgs'\n",
    "gimg_list = os.listdir(root)\n",
    "print(len(gimg_list))"
   ]
  },
  {
   "cell_type": "code",
   "execution_count": 8,
   "metadata": {},
   "outputs": [],
   "source": [
    "generated_transform = transforms.Compose([transforms.ToTensor()])\n",
    "generated_celeb_data = datasets.ImageFolder('./sep_images_folder', transform = generated_transform)"
   ]
  },
  {
   "cell_type": "code",
   "execution_count": 9,
   "metadata": {},
   "outputs": [],
   "source": [
    "batch_size = 64\n",
    "nworkers = 4 \n",
    "\n",
    "# Training Dataloader\n",
    "training_data_loader = DataLoader(celeba_data, batch_size=batch_size, shuffle=True, num_workers=nworkers)\n",
    "\n",
    "# Generated Images DataLoader\n",
    "generated_data_loader = DataLoader(generated_celeb_data, batch_size=batch_size, shuffle=True, num_workers=nworkers)"
   ]
  },
  {
   "cell_type": "code",
   "execution_count": 10,
   "metadata": {},
   "outputs": [],
   "source": [
    "# Encoder and Decoder Network\n",
    "\n",
    "import torch.nn as nn\n",
    "\n",
    "class Encoder(nn.Module):\n",
    "  def __init__(self, nz):\n",
    "    super().__init__()\n",
    "    self.net = nn.Sequential(\n",
    "        \n",
    "        nn.Conv2d(3, 32, kernel_size = 4, stride = 2, padding = 1), # (B, 32 ,16, 16)\n",
    "        nn.LeakyReLU(0.1),\n",
    "\n",
    "        nn.Conv2d(32, 64, kernel_size = 4, stride = 2, padding = 1), # (B, 64, 8, 8)\n",
    "        nn.BatchNorm2d(64),\n",
    "        nn.LeakyReLU(0.1),\n",
    "\n",
    "        nn.Conv2d(64 ,128, kernel_size = 4, stride = 2, padding = 0), # (B, 128, 3, 3)\n",
    "        nn.BatchNorm2d(128),\n",
    "        nn.LeakyReLU(0.1),\n",
    "\n",
    "        nn.Conv2d(128, 256, kernel_size = 3, stride = 1, padding = 0), #(B, 256, 1, 1)\n",
    "        nn.BatchNorm2d(256),\n",
    "        nn.LeakyReLU(0.1),\n",
    "\n",
    "        nn.Flatten(),\n",
    "        nn.Linear(256, nz) \n",
    "    )\n",
    "  \n",
    "  def forward(self, x):\n",
    "    return self.net(x)\n",
    "\n",
    "class Decoder(nn.Module):\n",
    "  def __init__(self, nz):\n",
    "    super().__init__()\n",
    "    self.map = nn.Linear(nz, 256)   # for initial Linear layer\n",
    "    self.net = nn.Sequential(\n",
    "\n",
    "        nn.BatchNorm2d(256),\n",
    "        nn.LeakyReLU(0.1),\n",
    "        nn.ConvTranspose2d(256, 128, kernel_size = 3, stride = 1, padding = 0), \n",
    "\n",
    "        nn.BatchNorm2d(128),\n",
    "        nn.LeakyReLU(0.1),\n",
    "        nn.ConvTranspose2d(128, 64, kernel_size = 4, stride = 2, padding = 0),  \n",
    "\n",
    "        nn.BatchNorm2d(64),\n",
    "        nn.LeakyReLU(0.1),\n",
    "        nn.ConvTranspose2d(64, 32, kernel_size = 4, stride = 2, padding = 1),  \n",
    "\n",
    "        nn.BatchNorm2d(32),\n",
    "        nn.LeakyReLU(0.1),\n",
    "        nn.ConvTranspose2d(32, 3, kernel_size = 4, stride = 2, padding = 1),  \n",
    "\n",
    "        nn.Sigmoid()\n",
    "    )\n",
    "  \n",
    "  def forward(self, x):\n",
    "    return self.net(self.map(x).reshape(-1, 256, 1, 1))"
   ]
  },
  {
   "cell_type": "code",
   "execution_count": 11,
   "metadata": {},
   "outputs": [
    {
     "name": "stdout",
     "output_type": "stream",
     "text": [
      "Shape of encoding vector (should be [batch_size, nz]): torch.Size([64, 64])\n",
      "Shape of decoded image (should be [batch_size, 3, 32, 32]): torch.Size([64, 3, 32, 32])\n"
     ]
    }
   ],
   "source": [
    "nz = 64  # dimensionality of the learned embedding\n",
    "encoder = Encoder(nz)\n",
    "decoder = Decoder(nz)\n",
    "for sample_img, sample_label in training_data_loader:\n",
    "  enc = encoder(sample_img)\n",
    "  print(\"Shape of encoding vector (should be [batch_size, nz]): {}\".format(enc.shape))\n",
    "  dec = decoder(enc)\n",
    "  print(\"Shape of decoded image (should be [batch_size, 3, 32, 32]): {}\".format(dec.shape))    \n",
    "  break"
   ]
  },
  {
   "cell_type": "code",
   "execution_count": 12,
   "metadata": {},
   "outputs": [],
   "source": [
    "class AutoEncoder(nn.Module):\n",
    "  def __init__(self, nz):\n",
    "    super().__init__()\n",
    "    self.encoder = Encoder(nz)\n",
    "    self.decoder = Decoder(nz)\n",
    "\n",
    "  def forward(self, x):\n",
    "    return self.decoder(self.encoder(x))\n",
    "\n",
    "  def reconstruct(self, x):\n",
    "    \"\"\"Only used later for visualization.\"\"\"\n",
    "    return self.forward(x)\n",
    "\n",
    "  def encode(self, x):\n",
    "    return self.encoder(x)"
   ]
  },
  {
   "cell_type": "code",
   "execution_count": 13,
   "metadata": {},
   "outputs": [],
   "source": [
    "epochs = 9\n",
    "learning_rate = 5e-4\n",
    "\n",
    "device = torch.device('cuda:0' if torch.cuda.is_available() else 'cpu')   \n",
    "ae_model = AutoEncoder(nz).to(device)    \n",
    "ae_model = ae_model.train()  \n",
    "\n",
    "opt = torch.optim.Adam(ae_model.parameters(), lr=learning_rate) # optimizer instance\n",
    "criterion = nn.MSELoss()       "
   ]
  },
  {
   "cell_type": "code",
   "execution_count": 14,
   "metadata": {},
   "outputs": [
    {
     "data": {
      "text/plain": [
       "<All keys matched successfully>"
      ]
     },
     "execution_count": 14,
     "metadata": {},
     "output_type": "execute_result"
    }
   ],
   "source": [
    "ae_model.load_state_dict(torch.load('./MMD_autoencoder.pkl'))"
   ]
  },
  {
   "cell_type": "code",
   "execution_count": 15,
   "metadata": {},
   "outputs": [
    {
     "name": "stderr",
     "output_type": "stream",
     "text": [
      "Clipping input data to the valid range for imshow with RGB data ([0..1] for floats or [0..255] for integers).\n"
     ]
    },
    {
     "data": {
      "image/png": "[encoded data removed]",
      "text/plain": [
       "<Figure size 720x1800 with 1 Axes>"
      ]
     },
     "metadata": {
      "needs_background": "light"
     },
     "output_type": "display_data"
    }
   ],
   "source": [
    "# visualize test data reconstructions\n",
    "def vis_reconstruction(model):\n",
    "  \n",
    "  celeba_data_iter = iter(celeba_data) \n",
    "  model.eval()      \n",
    "  input_imgs, test_reconstructions = [], []\n",
    "  for _ in range(5):\n",
    "    input_img = np.asarray(next(celeba_data_iter)[0])\n",
    "    reconstruction = model.reconstruct(torch.tensor(input_img[None], device=device))\n",
    "    input_imgs.append(np.transpose(input_img,(1,2,0)))\n",
    "    test_reconstructions.append(np.transpose(reconstruction[0].data.cpu().numpy(),(1,2,0)))\n",
    "\n",
    "  fig = plt.figure(figsize = (10, 25))   \n",
    "  ax1 = plt.subplot(111)\n",
    "  ax1.imshow(np.concatenate([np.concatenate(input_imgs, axis=1),\n",
    "                            np.concatenate(test_reconstructions, axis=1)], axis=0))\n",
    "  plt.show()\n",
    "\n",
    "vis_reconstruction(ae_model)"
   ]
  },
  {
   "cell_type": "code",
   "execution_count": 16,
   "metadata": {},
   "outputs": [],
   "source": [
    "# Latent Representation of Both Training Image an Generated Images.\n",
    "\n",
    "# Generated Images\n",
    "z_gen_list = []\n",
    "for batch, _ in generated_data_loader:\n",
    "    batch = batch.to(device)\n",
    "    z_generated = ae_model.encode(batch)\n",
    "    z_gen_list.append(z_generated)\n",
    "\n",
    "z_generated = torch.cat(z_gen_list, dim=0)"
   ]
  },
  {
   "cell_type": "code",
   "execution_count": 17,
   "metadata": {},
   "outputs": [
    {
     "name": "stdout",
     "output_type": "stream",
     "text": [
      "torch.Size([6400, 64])\n"
     ]
    }
   ],
   "source": [
    "print(z_generated.shape)"
   ]
  },
  {
   "cell_type": "code",
   "execution_count": 18,
   "metadata": {},
   "outputs": [],
   "source": [
    "# Training Images\n",
    "z_train_list = []\n",
    "batch_num = 0\n",
    "for batch, _ in training_data_loader:\n",
    "    batch_num += 1\n",
    "    if batch_num == 101:\n",
    "        break\n",
    "    batch = batch.to(device)\n",
    "    z_train = ae_model.encode(batch)\n",
    "    z_train_list.append(z_train)\n",
    "\n",
    "z_train = torch.cat(z_train_list, dim=0)"
   ]
  },
  {
   "cell_type": "code",
   "execution_count": 19,
   "metadata": {},
   "outputs": [
    {
     "name": "stdout",
     "output_type": "stream",
     "text": [
      "torch.Size([6400, 64])\n"
     ]
    }
   ],
   "source": [
    "print(z_train.shape)"
   ]
  },
  {
   "cell_type": "code",
   "execution_count": 40,
   "metadata": {},
   "outputs": [],
   "source": [
    "# MMD\n",
    "def max_mean_discrepancy(x, y, B, alpha):\n",
    "  xx, yy, zz = torch.mm(x,x.t()), torch.mm(y,y.t()), torch.mm(x,y.t())\n",
    "  rx = (xx.diag().unsqueeze(0).expand_as(xx))\n",
    "  ry = (yy.diag().unsqueeze(0).expand_as(yy))\n",
    "\n",
    "  K = torch.exp(- alpha * (rx.t() + rx - 2*xx))\n",
    "  L = torch.exp(- alpha * (ry.t() + ry - 2*yy))\n",
    "  P = torch.exp(- alpha * (rx.t() + ry - 2*zz))\n",
    "\n",
    "  beta = (1./(B*(B-1)))\n",
    "  gamma = (2./(B*B)) \n",
    "\n",
    "  mmd =  beta * (torch.sum(K)+torch.sum(L)) - gamma * torch.sum(P)\n",
    "  return mmd"
   ]
  },
  {
   "cell_type": "code",
   "execution_count": 41,
   "metadata": {},
   "outputs": [],
   "source": [
    "maximum_mean_dis = max_mean_discrepancy(z_train, z_generated, 6400, 0.05)"
   ]
  },
  {
   "cell_type": "code",
   "execution_count": 42,
   "metadata": {},
   "outputs": [
    {
     "name": "stdout",
     "output_type": "stream",
     "text": [
      "tensor(0.0008, device='cuda:0', grad_fn=<SubBackward0>)\n"
     ]
    }
   ],
   "source": [
    "print(maximum_mean_dis)"
   ]
  },
  {
   "cell_type": "code",
   "execution_count": null,
   "metadata": {},
   "outputs": [],
   "source": []
  }
 ],
 "metadata": {
  "kernelspec": {
   "display_name": "Python 3",
   "language": "python",
   "name": "python3"
  },
  "language_info": {
   "codemirror_mode": {
    "name": "ipython",
    "version": 3
   },
   "file_extension": ".py",
   "mimetype": "text/x-python",
   "name": "python",
   "nbconvert_exporter": "python",
   "pygments_lexer": "ipython3",
   "version": "3.7.8"
  }
 },
 "nbformat": 4,
 "nbformat_minor": 4
}
