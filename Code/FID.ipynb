{
 "cells": [
  {
   "cell_type": "code",
   "execution_count": 1,
   "metadata": {},
   "outputs": [
    {
     "name": "stdout",
     "output_type": "stream",
     "text": [
      "Collecting pytorch-fid\n",
      "  Downloading pytorch-fid-0.1.1.tar.gz (9.3 kB)\n",
      "Requirement already satisfied: numpy in /opt/conda/lib/python3.7/site-packages (from pytorch-fid) (1.18.5)\n",
      "Requirement already satisfied: pillow in /opt/conda/lib/python3.7/site-packages (from pytorch-fid) (4.0.0)\n",
      "Requirement already satisfied: scipy in /opt/conda/lib/python3.7/site-packages (from pytorch-fid) (1.5.2)\n",
      "Requirement already satisfied: torch in /opt/conda/lib/python3.7/site-packages (from pytorch-fid) (1.4.0)\n",
      "Requirement already satisfied: torchvision in /opt/conda/lib/python3.7/site-packages (from pytorch-fid) (0.5.0)\n",
      "Requirement already satisfied: olefile in /opt/conda/lib/python3.7/site-packages (from pillow->pytorch-fid) (0.46)\n",
      "Requirement already satisfied: six in /opt/conda/lib/python3.7/site-packages (from torchvision->pytorch-fid) (1.15.0)\n",
      "Building wheels for collected packages: pytorch-fid\n",
      "  Building wheel for pytorch-fid (setup.py) ... \u001b[?25ldone\n",
      "\u001b[?25h  Created wheel for pytorch-fid: filename=pytorch_fid-0.1.1-py3-none-any.whl size=10187 sha256=1d18f9d0f1c99afa42a10c22d137b2f649956e29fd28205b37de71bfb883140e\n",
      "  Stored in directory: /home/sushma/.cache/pip/wheels/02/c5/ed/58ac12fce449ae1c1501c2e676988975e1afc852f6967ceb6b\n",
      "Successfully built pytorch-fid\n",
      "Installing collected packages: pytorch-fid\n",
      "Successfully installed pytorch-fid-0.1.1\n",
      "Note: you may need to restart the kernel to use updated packages.\n"
     ]
    }
   ],
   "source": [
    "pip install pytorch-fid"
   ]
  },
  {
   "cell_type": "code",
   "execution_count": null,
   "metadata": {},
   "outputs": [
    {
     "name": "stdout",
     "output_type": "stream",
     "text": [
      "  5%|██                                   | 222/4052 [55:11<16:02:52, 15.08s/it]"
     ]
    }
   ],
   "source": [
    "!python -m pytorch_fid data_faces/img_align_celeba/ sep_images_folder/sep_imgs > output.txt"
   ]
  }
 ],
 "metadata": {
  "kernelspec": {
   "display_name": "Python 3",
   "language": "python",
   "name": "python3"
  },
  "language_info": {
   "codemirror_mode": {
    "name": "ipython",
    "version": 3
   },
   "file_extension": ".py",
   "mimetype": "text/x-python",
   "name": "python",
   "nbconvert_exporter": "python",
   "pygments_lexer": "ipython3",
   "version": "3.7.8"
  }
 },
 "nbformat": 4,
 "nbformat_minor": 4
}
